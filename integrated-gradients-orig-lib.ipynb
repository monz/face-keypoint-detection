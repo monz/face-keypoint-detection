{
 "cells": [
  {
   "cell_type": "markdown",
   "metadata": {},
   "source": [
    "# Integrated Gradients\n",
    "\n",
    "https://github.com/ankurtaly/Integrated-Gradients"
   ]
  },
  {
   "cell_type": "code",
   "execution_count": null,
   "metadata": {},
   "outputs": [],
   "source": [
    "# Imports\n",
    "import os\n",
    "import tensorflow as tf\n",
    "import pandas as pd\n",
    "import numpy as np\n",
    "import matplotlib.pyplot as plt\n",
    "\n",
    "from tensorflow import keras\n",
    "\n",
    "#from InceptionModel.inception_utils import load_model, load_labels_vocabulary, make_predictions_and_gradients, top_label_id_and_score\n",
    "from IntegratedGradients.integrated_gradients import integrated_gradients, random_baseline_integrated_gradients\n",
    "from VisualizationLibrary.visualization_lib import Visualize, show_pil_image, pil_image"
   ]
  },
  {
   "cell_type": "code",
   "execution_count": null,
   "metadata": {},
   "outputs": [],
   "source": [
    "# configuration for notebook\n",
    "IN_COLAB = False\n",
    "USE_GPU = IN_COLAB and False  # TPU and GPU only available in COLAB environment\n",
    "USE_TPU = IN_COLAB and ((not USE_GPU) ^ False)  # XOR; either use GPU or TPU, cannot use both at the same time\n",
    "\n",
    "BASE_PATH = '.'\n",
    "LOG_DIR = os.path.join(BASE_PATH, 'logs')\n",
    "USE_RGB = False\n",
    "\n",
    "if USE_RGB:\n",
    "    MODEL_OUTPUT_DIR = os.path.join(BASE_PATH, 'face_keypoint_model_rgb')\n",
    "    INPUT_CHANNEL_COUNT = 3  # test with gray-scale to rgb \n",
    "else:\n",
    "    MODEL_OUTPUT_DIR = os.path.join(BASE_PATH, 'face_keypoint_model')\n",
    "    INPUT_CHANNEL_COUNT = 1  # due to gray-scale image we have only one color channel\n",
    "\n",
    "# load pre-trained model or train new model\n",
    "if os.path.exists(MODEL_OUTPUT_DIR):\n",
    "    model = keras.models.load_model(MODEL_OUTPUT_DIR)\n",
    "    \n",
    "model.summary()"
   ]
  },
  {
   "cell_type": "code",
   "execution_count": null,
   "metadata": {},
   "outputs": [],
   "source": [
    "# load data\n",
    "TEST_DATA_FILE = os.path.join(BASE_PATH, 'data', 'test.csv')\n",
    "\n",
    "# read raw data from csv\n",
    "test_data_raw = pd.read_csv(TEST_DATA_FILE)"
   ]
  },
  {
   "cell_type": "code",
   "execution_count": null,
   "metadata": {},
   "outputs": [],
   "source": [
    "def from_str_to_image(string_list):\n",
    "    return np.array([np.array(row.split(), dtype=np.uint8) for row in string_list])\n",
    "\n",
    "\n",
    "def normalize_image(data):\n",
    "    return (data / 255.0)\n",
    "\n",
    "def normalize_image_batch(data, width, height, channel_count):\n",
    "    return (data / 255.0).reshape((-1, width, height, channel_count)) # additional batch layer\n",
    "\n",
    "def predictions_and_gradients(images, target_keypoint_idx):\n",
    "    if len(images.shape) != 4:\n",
    "        images = tf.expand_dims(images, axis=0)\n",
    "    with tf.GradientTape() as tape:  # used for automatic gradient computation\n",
    "        tape.watch(images)\n",
    "        logits = model(images)\n",
    "        preds = logits[:, target_keypoint_idx]\n",
    "    return preds, tape.gradient(preds, images)\n"
   ]
  },
  {
   "cell_type": "code",
   "execution_count": null,
   "metadata": {},
   "outputs": [],
   "source": [
    "# define test image\n",
    "image_index = 994\n",
    "\n",
    "# prepare test data for prediction\n",
    "# convert image string to Numpy array\n",
    "test_data = from_str_to_image(test_data_raw['Image'])\n",
    "if USE_RGB:\n",
    "    # re-create rgb channels from gray-scale\n",
    "    test_data = np.stack((test_data,)*3, axis=-1)\n",
    "\n",
    "# extract image dimensions\n",
    "IMG_WIDTH = IMG_HEIGHT = np.sqrt(test_data.shape[1]).astype(np.uint8)\n",
    "\n",
    "# show first test image\n",
    "plt.imshow(test_data[image_index, :].reshape((IMG_WIDTH, IMG_HEIGHT, INPUT_CHANNEL_COUNT)), cmap='gray')"
   ]
  },
  {
   "cell_type": "code",
   "execution_count": null,
   "metadata": {},
   "outputs": [],
   "source": [
    "# prepare test image\n",
    "test_image = test_data[image_index,:].reshape((IMG_WIDTH, IMG_HEIGHT, INPUT_CHANNEL_COUNT))\n",
    "test_image = normalize_image(test_image)\n",
    "test_image = tf.constant(test_image, dtype=tf.float32)"
   ]
  },
  {
   "cell_type": "code",
   "execution_count": null,
   "metadata": {},
   "outputs": [],
   "source": [
    "# Compute attributions based on just the gradients.\n",
    "target_keypoint_idx = 0  # [0, 29] for 30 face keypoints\n",
    "\n",
    "predictions, gradients = predictions_and_gradients(test_image, target_keypoint_idx)"
   ]
  },
  {
   "cell_type": "code",
   "execution_count": null,
   "metadata": {},
   "outputs": [],
   "source": [
    "# print('Gradients')\n",
    "# show_pil_image(pil_image(Visualize(\n",
    "#     gradients[0], test_image,\n",
    "#     clip_above_percentile=99,\n",
    "#     clip_below_percentile=0,\n",
    "#     overlay=True)))"
   ]
  },
  {
   "cell_type": "code",
   "execution_count": null,
   "metadata": {},
   "outputs": [],
   "source": [
    "# Compute attributions based on the integrated gradients method.\n",
    "attributions = random_baseline_integrated_gradients(\n",
    "    test_image,\n",
    "    target_keypoint_idx,\n",
    "    predictions_and_gradients,\n",
    "    steps=500,\n",
    "    num_random_trials=10)"
   ]
  },
  {
   "cell_type": "code",
   "execution_count": null,
   "metadata": {},
   "outputs": [],
   "source": [
    "print(predictions)"
   ]
  },
  {
   "cell_type": "code",
   "execution_count": null,
   "metadata": {},
   "outputs": [],
   "source": [
    "print('Integrated Gradients')\n",
    "show_pil_image(pil_image(Visualize(\n",
    "    attributions, test_image,\n",
    "    clip_above_percentile=99,\n",
    "    clip_below_percentile=0,\n",
    "    overlay=True,\n",
    "    polarity='positive',\n",
    "    plot_distribution=False)))"
   ]
  }
 ],
 "metadata": {
  "kernelspec": {
   "display_name": "Python 3",
   "language": "python",
   "name": "python3"
  },
  "language_info": {
   "codemirror_mode": {
    "name": "ipython",
    "version": 3
   },
   "file_extension": ".py",
   "mimetype": "text/x-python",
   "name": "python",
   "nbconvert_exporter": "python",
   "pygments_lexer": "ipython3",
   "version": "3.8.6"
  }
 },
 "nbformat": 4,
 "nbformat_minor": 4
}
